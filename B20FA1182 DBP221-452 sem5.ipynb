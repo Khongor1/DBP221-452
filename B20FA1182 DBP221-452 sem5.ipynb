{
 "cells": [
  {
   "cell_type": "code",
   "execution_count": 4,
   "id": "4b7dc171",
   "metadata": {},
   "outputs": [
    {
     "name": "stdout",
     "output_type": "stream",
     "text": [
      "3\n",
      "*\n",
      "**\n",
      "***\n"
     ]
    }
   ],
   "source": [
    "#1,2\n",
    "def number(n):\n",
    "    n=int(input())\n",
    "    a=1\n",
    "    while a<n+1:\n",
    "        print('*'*a)\n",
    "        a+=1\n",
    "number(1)"
   ]
  },
  {
   "cell_type": "code",
   "execution_count": 5,
   "id": "91534cad",
   "metadata": {},
   "outputs": [
    {
     "data": {
      "text/plain": [
       "('Oyun', 'Bat')"
      ]
     },
     "execution_count": 5,
     "metadata": {},
     "output_type": "execute_result"
    }
   ],
   "source": [
    "#3\n",
    "def max_min(students):\n",
    "    a= max(students, key=students.get)\n",
    "    b= min(students, key=students.get)\n",
    "    return a,b\n",
    "students = {'Bat': 18,'Oyun': 22,'Dulam': 21,'Suren':20}\n",
    "max_min(students)\n"
   ]
  },
  {
   "cell_type": "code",
   "execution_count": 7,
   "id": "5bbc5863",
   "metadata": {},
   "outputs": [
    {
     "name": "stdout",
     "output_type": "stream",
     "text": [
      "214216\n"
     ]
    }
   ],
   "source": [
    "#4\n",
    "import numpy as np\n",
    "a=np.arange(1,1000)\n",
    "x=0\n",
    "for i in a:\n",
    "    if i%3==0 or i%7==0:\n",
    "        x=x+i\n",
    "print(x)"
   ]
  },
  {
   "cell_type": "code",
   "execution_count": null,
   "id": "c13d8fb5",
   "metadata": {},
   "outputs": [],
   "source": []
  }
 ],
 "metadata": {
  "kernelspec": {
   "display_name": "Python 3 (ipykernel)",
   "language": "python",
   "name": "python3"
  },
  "language_info": {
   "codemirror_mode": {
    "name": "ipython",
    "version": 3
   },
   "file_extension": ".py",
   "mimetype": "text/x-python",
   "name": "python",
   "nbconvert_exporter": "python",
   "pygments_lexer": "ipython3",
   "version": "3.9.7"
  }
 },
 "nbformat": 4,
 "nbformat_minor": 5
}
